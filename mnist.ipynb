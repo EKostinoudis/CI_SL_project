{
 "cells": [
  {
   "cell_type": "code",
   "execution_count": 20,
   "metadata": {},
   "outputs": [],
   "source": [
    "from datasets.mnist import read_data\n",
    "import numpy as np\n",
    "from utils import *\n",
    "\n",
    "FIG_FOLDER = 'mnist'\n",
    "SAVE_PLOTS = True # save all the plots\n",
    "\n",
    "# load the data\n",
    "chose_split = False # load all the data and then chose how to split\n",
    "if chose_split:\n",
    "    X, y = read_data.load_all_data()\n",
    "\n",
    "    from sklearn.model_selection import train_test_split\n",
    "    x_train, x_test, y_train, y_test = train_test_split(X, y, test_size=0.4, random_state=1337)\n",
    "    del X # save some space\n",
    "    del y # save some space\n",
    "else:\n",
    "    # load the training and testing sets as given by the author\n",
    "    x_train, y_train = read_data.load_train_data()\n",
    "    x_test, y_test = read_data.load_test_data()\n",
    "\n",
    "# serialize images (from 2d to 1d)\n",
    "x_train = x_train.reshape((x_train.shape[0], -1))\n",
    "x_test = x_test.reshape((x_test.shape[0], -1))\n",
    "\n",
    "test = True # for testing stuff without the need to wait an eternity\n",
    "# test = False # for testing stuff without the need to wait an eternity\n",
    "if test:\n",
    "    x_train = x_train[:4000]\n",
    "    y_train = y_train[:4000]\n",
    "    x_test = x_test[:500]\n",
    "    y_test = y_test[:500]"
   ]
  },
  {
   "cell_type": "code",
   "execution_count": 21,
   "metadata": {},
   "outputs": [],
   "source": [
    "# subsample training data in order to equalize class frequencies\n",
    "# we match the lowest class frequency\n",
    "vals, freq = np.unique(y_train, return_counts = True)\n",
    "wanted_freq = min(freq)\n",
    "all_indexes = np.zeros((len(freq), wanted_freq), dtype=np.uint32)\n",
    "for i, v in enumerate(vals):\n",
    "    indexes = np.random.choice(np.where(y_train == v)[0], size=wanted_freq, replace=False)\n",
    "    all_indexes[i, :] = indexes\n",
    "all_indexes = np.sort(all_indexes.flatten())\n",
    "y_train = y_train[all_indexes]\n",
    "x_train = x_train[all_indexes, :]"
   ]
  },
  {
   "cell_type": "code",
   "execution_count": 22,
   "metadata": {},
   "outputs": [
    {
     "data": {
      "image/png": "[encoded data removed]",
      "text/plain": [
       "<Figure size 1080x864 with 1 Axes>"
      ]
     },
     "metadata": {
      "needs_background": "light"
     },
     "output_type": "display_data"
    }
   ],
   "source": [
    "import matplotlib.pyplot as plt\n",
    "\n",
    "vals2, freq2 = np.unique(y_train, return_counts = True)\n",
    "x_ = np.arange(len(freq))\n",
    "width = 0.45\n",
    "\n",
    "fig, ax = plt.subplots(figsize=(15,12))\n",
    "ax.bar(x_ - width/2, freq, width, label='Original Training Set')\n",
    "plt.bar(x_ + width/2, freq2, width, label='Subsampled Training Set')\n",
    "ax.set_ylabel('Number of samples')\n",
    "ax.set_xlabel('Class')\n",
    "ax.set_title('Training set balance')\n",
    "ax.set_xticks(x_)\n",
    "ax.set_xticklabels(vals)\n",
    "ax.legend()\n",
    "plt.show()\n",
    "if SAVE_PLOTS:\n",
    "    save_plots(fig, 'training_freq', FIG_FOLDER)"
   ]
  },
  {
   "cell_type": "code",
   "execution_count": 23,
   "metadata": {},
   "outputs": [],
   "source": [
    "from sklearn.preprocessing import MinMaxScaler\n",
    "from sklearn.pipeline import Pipeline\n",
    "from sklearn.decomposition import PCA\n",
    "\n",
    "pipe = Pipeline([('scaler1', MinMaxScaler()),\n",
    "                 ('PCA', PCA(0.9)),\n",
    "                 ('scaler2', MinMaxScaler()),\n",
    "                ])\n",
    "pipe.fit(x_train)\n",
    "x_train = pipe.transform(x_train)\n",
    "x_test = pipe.transform(x_test)"
   ]
  },
  {
   "cell_type": "code",
   "execution_count": 24,
   "metadata": {},
   "outputs": [],
   "source": [
    "params = [\n",
    "          {'kernel': ('linear',), 'C': (0.1, 1, 10)},\n",
    "          {'kernel': ('poly',), 'C': (0.1, 1, 10), 'degree': (2, 3, 4), 'gamma': (0.1, 1, 10)},\n",
    "          {'kernel': ('rbf',), 'C': (1, 10, 50), 'gamma': (0.01, 0.1, 1, 10, 100)},\n",
    "          {'kernel': ('sigmoid',), 'C': (10, 100, 1000, 10000), 'gamma': (0.0001, 0.001, 0.01, 0.1)},\n",
    "         ]\n",
    "\n",
    "models = []\n",
    "for kwargs in params:\n",
    "    models.append(GS_wrapper(SVC(decision_function_shape='ovo'), kwargs, cv=3, scoring='f1_macro', verbose=4, n_jobs=-1))"
   ]
  },
  {
   "cell_type": "code",
   "execution_count": 25,
   "metadata": {},
   "outputs": [
    {
     "name": "stdout",
     "output_type": "stream",
     "text": [
      "Fitting 3 folds for each of 3 candidates, totalling 9 fits\n",
      "0.0 mins 3.5080 secs\n",
      "Fitting 3 folds for each of 27 candidates, totalling 81 fits\n",
      "0.0 mins 15.8344 secs\n",
      "Fitting 3 folds for each of 15 candidates, totalling 45 fits\n",
      "0.0 mins 29.0140 secs\n",
      "Fitting 3 folds for each of 16 candidates, totalling 48 fits\n",
      "0.0 mins 19.5807 secs\n"
     ]
    }
   ],
   "source": [
    "# Fit the models\n",
    "for model in models:\n",
    "    t0 = time()\n",
    "    model.fit(x_train, y_train)\n",
    "    mins, secs = divmod(time() - t0, 60)\n",
    "    print(f'{mins} mins {secs:.4f} secs')"
   ]
  },
  {
   "cell_type": "code",
   "execution_count": 26,
   "metadata": {},
   "outputs": [
    {
     "name": "stdout",
     "output_type": "stream",
     "text": [
      "{'C': 1, 'kernel': 'linear'} 0.8975341856373619\n",
      "{'C': 0.1, 'degree': 4, 'gamma': 1, 'kernel': 'poly'} 0.9088980048906582\n",
      "{'C': 10, 'gamma': 1, 'kernel': 'rbf'} 0.9339424811314253\n",
      "{'C': 100, 'gamma': 0.01, 'kernel': 'sigmoid'} 0.8987304946326432\n"
     ]
    }
   ],
   "source": [
    "# print best parameters for every model and the score\n",
    "for model in models:\n",
    "    print(model.best_params_, model.best_score_)"
   ]
  },
  {
   "cell_type": "code",
   "execution_count": 27,
   "metadata": {},
   "outputs": [],
   "source": [
    "# calculate the metrics\n",
    "for model in models:\n",
    "    model.calculate_train_test_metrics(x_train, y_train, x_test, y_test)\n",
    "    # print(model.train_metrics, model.test_metrics)"
   ]
  },
  {
   "cell_type": "code",
   "execution_count": 28,
   "metadata": {},
   "outputs": [],
   "source": [
    "from sklearn.neighbors import KNeighborsClassifier\n",
    "\n",
    "knn = KNeighborsClassifier(n_neighbors=3, weights='distance')\n",
    "t0 = time()\n",
    "knn.fit(x_train, y_train)\n",
    "knn_time = time() - t0\n",
    "\n",
    "knn_train_metrics = calculate_metrics(knn, x_train, y_train)\n",
    "knn_test_metrics = calculate_metrics(knn, x_test, y_test)"
   ]
  },
  {
   "cell_type": "code",
   "execution_count": 29,
   "metadata": {},
   "outputs": [],
   "source": [
    "from sklearn.neighbors import NearestCentroid\n",
    "\n",
    "nc = NearestCentroid()\n",
    "t0 = time()\n",
    "nc.fit(x_train, y_train)\n",
    "nc_time = time() - t0\n",
    "nc_train_metrics = calculate_metrics(nc, x_train, y_train)\n",
    "nc_test_metrics = calculate_metrics(nc, x_test, y_test)"
   ]
  },
  {
   "cell_type": "code",
   "execution_count": 30,
   "metadata": {},
   "outputs": [],
   "source": [
    "# create data for the plots\n",
    "names = []\n",
    "times = []\n",
    "acc = [[], []]\n",
    "prec = [[], []]\n",
    "recall = [[], []]\n",
    "f1 = [[], []]\n",
    "for model in models:\n",
    "    if hasattr(model, 'refit_time_'):\n",
    "        times.append(model.refit_time_)\n",
    "    else:\n",
    "        times.append(model.train_time)\n",
    "\n",
    "    acc[0].append(model.train_metrics[0]) \n",
    "    acc[1].append(model.test_metrics[0]) \n",
    "    prec[0].append(model.train_metrics[1]) \n",
    "    prec[1].append(model.test_metrics[1]) \n",
    "    recall[0].append(model.train_metrics[2]) \n",
    "    recall[1].append(model.test_metrics[2]) \n",
    "    f1[0].append(model.train_metrics[3]) \n",
    "    f1[1].append(model.test_metrics[3]) \n",
    "\n",
    "    if hasattr(model, 'best_params_'):\n",
    "        names.append(\"\\n\".join([f'{key}: {val}' for key, val in model.best_params_.items()]))\n",
    "    else:\n",
    "        if model.init_kwargs is not None:\n",
    "            if hasattr(model, 'kernel'):\n",
    "                names.append(f'{model.kernel}, ' + \", \".join([f'{key}: {val}' for key, val in model.init_kwargs.items()]))\n",
    "            else:\n",
    "                names.append(\", \".join([f'{key}: {val}' for key, val in model.init_kwargs.items()]))\n",
    "        else:\n",
    "            names.append(f'{model.kernel}')\n",
    "\n",
    "# add kNN and nearest class centroid\n",
    "names.append('kNN: 3 neighbors\\nweighted (L2)')\n",
    "names.append('Nearest Centroid')\n",
    "times.append(knn_time)\n",
    "times.append(nc_time)\n",
    "acc[0].append(knn_train_metrics[0]) \n",
    "acc[1].append(knn_test_metrics[0]) \n",
    "acc[0].append(nc_train_metrics[0]) \n",
    "acc[1].append(nc_test_metrics[0]) \n",
    "\n",
    "prec[0].append(knn_train_metrics[1]) \n",
    "prec[1].append(knn_test_metrics[1]) \n",
    "prec[0].append(nc_train_metrics[1]) \n",
    "prec[1].append(nc_test_metrics[1]) \n",
    "\n",
    "recall[0].append(knn_train_metrics[2]) \n",
    "recall[1].append(knn_test_metrics[2]) \n",
    "recall[0].append(nc_train_metrics[2]) \n",
    "recall[1].append(nc_test_metrics[2]) \n",
    "\n",
    "f1[0].append(knn_train_metrics[3]) \n",
    "f1[1].append(knn_test_metrics[3]) \n",
    "f1[0].append(nc_train_metrics[3]) \n",
    "f1[1].append(nc_test_metrics[3]) "
   ]
  },
  {
   "cell_type": "code",
   "execution_count": null,
   "metadata": {},
   "outputs": [],
   "source": [
    "import matplotlib.pyplot as plt\n",
    "\n",
    "# plot times\n",
    "fig = plt.figure(figsize=(15,12))\n",
    "ax = plt.bar(names, times)\n",
    "plt.title('Training time')\n",
    "plt.xlabel('Model')\n",
    "plt.ylabel('Time in seconds')\n",
    "plt.xticks(rotation=45)\n",
    "plt.show()\n",
    "\n",
    "if SAVE_PLOTS:\n",
    "    save_plots(fig, 'training_time', FIG_FOLDER)"
   ]
  },
  {
   "cell_type": "code",
   "execution_count": null,
   "metadata": {},
   "outputs": [],
   "source": [
    "# plot accuracy\n",
    "fig, ax = plt.subplots(figsize=(15,12))\n",
    "\n",
    "x_ = np.arange(len(names))\n",
    "width = 0.35\n",
    "\n",
    "ax.bar(x_ - width/2, acc[0], width, label='Train')\n",
    "ax.bar(x_ + width/2, acc[1], width, label='Test')\n",
    "\n",
    "ax.set_ylabel('Accuracy')\n",
    "ax.set_title('Accuracy')\n",
    "ax.set_xticks(x_)\n",
    "ax.set_xticklabels(names)\n",
    "ax.legend()\n",
    "plt.xticks(rotation=45)\n",
    "plt.show()\n",
    "if SAVE_PLOTS:\n",
    "    save_plots(fig, 'accuracy', FIG_FOLDER)"
   ]
  },
  {
   "cell_type": "code",
   "execution_count": null,
   "metadata": {},
   "outputs": [],
   "source": [
    "# plot precision\n",
    "fig, ax = plt.subplots(figsize=(15,12))\n",
    "\n",
    "x_ = np.arange(len(names))\n",
    "width = 0.35\n",
    "\n",
    "ax.bar(x_ - width/2, prec[0], width, label='Train')\n",
    "ax.bar(x_ + width/2, prec[1], width, label='Test')\n",
    "\n",
    "ax.set_ylabel('Precision')\n",
    "ax.set_title('Precision')\n",
    "ax.set_xticks(x_)\n",
    "ax.set_xticklabels(names)\n",
    "ax.legend()\n",
    "plt.xticks(rotation=45)\n",
    "plt.show()\n",
    "if SAVE_PLOTS:\n",
    "    save_plots(fig, 'precision', FIG_FOLDER)"
   ]
  },
  {
   "cell_type": "code",
   "execution_count": null,
   "metadata": {},
   "outputs": [],
   "source": [
    "# plot recall\n",
    "fig, ax = plt.subplots(figsize=(15,12))\n",
    "\n",
    "x_ = np.arange(len(names))\n",
    "width = 0.35\n",
    "\n",
    "ax.bar(x_ - width/2, recall[0], width, label='Train')\n",
    "ax.bar(x_ + width/2, recall[1], width, label='Test')\n",
    "\n",
    "ax.set_ylabel('Recall')\n",
    "ax.set_title('Recall')\n",
    "ax.set_xticks(x_)\n",
    "ax.set_xticklabels(names)\n",
    "ax.legend()\n",
    "plt.xticks(rotation=45)\n",
    "plt.show()\n",
    "if SAVE_PLOTS:\n",
    "    save_plots(fig, 'recall', FIG_FOLDER)"
   ]
  },
  {
   "cell_type": "code",
   "execution_count": null,
   "metadata": {},
   "outputs": [],
   "source": [
    "# plot f1\n",
    "fig, ax = plt.subplots(figsize=(15,12))\n",
    "\n",
    "x_ = np.arange(len(names))\n",
    "width = 0.35\n",
    "\n",
    "ax.bar(x_ - width/2, f1[0], width, label='Train')\n",
    "ax.bar(x_ + width/2, f1[1], width, label='Test')\n",
    "\n",
    "ax.set_ylabel('F1 score')\n",
    "ax.set_title('F1 score')\n",
    "ax.set_xticks(x_)\n",
    "ax.set_xticklabels(names)\n",
    "ax.legend()\n",
    "plt.xticks(rotation=45)\n",
    "plt.show()\n",
    "if SAVE_PLOTS:\n",
    "    save_plots(fig, 'f1', FIG_FOLDER)"
   ]
  },
  {
   "cell_type": "code",
   "execution_count": null,
   "metadata": {},
   "outputs": [],
   "source": [
    "# plot all metrics\n",
    "fig, ax = plt.subplots(2, 1, figsize=(19,12))\n",
    "\n",
    "plt.subplots_adjust(hspace=.3)\n",
    "\n",
    "x_ = np.arange(len(names))\n",
    "width = 0.8\n",
    "\n",
    "div = 4\n",
    "ax[0].bar(x_ - width/2 + 0*width/4, acc[0], width/4, label='Accuracy')\n",
    "ax[0].bar(x_ - width/2 + 1*width/4, prec[0], width/4, label='Precision')\n",
    "ax[0].bar(x_ - width/2 + 2*width/4, recall[0], width/4, label='Recall')\n",
    "ax[0].bar(x_ - width/2 + 3*width/4, f1[0], width/4, label='F1')\n",
    "\n",
    "ax[0].set_title('Metrics during training')\n",
    "ax[0].set_xticks(x_)\n",
    "ax[0].set_xticklabels(names, rotation=45)\n",
    "ax[0].legend()\n",
    "\n",
    "ax[1].bar(x_ - width/2 + 0*width/4, acc[1], width/4, label='Accuracy')\n",
    "ax[1].bar(x_ - width/2 + 1*width/4, prec[1], width/4, label='Precision')\n",
    "ax[1].bar(x_ - width/2 + 2*width/4, recall[1], width/4, label='Recall')\n",
    "ax[1].bar(x_ - width/2 + 3*width/4, f1[1], width/4, label='F1')\n",
    "\n",
    "ax[1].set_title('Metrics during test')\n",
    "ax[1].set_xticks(x_)\n",
    "ax[1].set_xticklabels(names, rotation=45)\n",
    "ax[1].legend()\n",
    "\n",
    "plt.show()\n",
    "if SAVE_PLOTS:\n",
    "    save_plots(fig, 'all_metrics', FIG_FOLDER)"
   ]
  },
  {
   "cell_type": "code",
   "execution_count": 31,
   "metadata": {},
   "outputs": [
    {
     "data": {
      "image/png": "[encoded data removed]",
      "text/plain": [
       "<Figure size 1080x864 with 2 Axes>"
      ]
     },
     "metadata": {
      "needs_background": "light"
     },
     "output_type": "display_data"
    }
   ],
   "source": [
    "from sklearn.metrics import confusion_matrix\n",
    "import seaborn as sns\n",
    "import matplotlib.pyplot as plt\n",
    "\n",
    "# pick the best model (based in test f1 score)\n",
    "best = max(models, key=lambda x: x.test_metrics[3])\n",
    "best_name =\", \".join([f'{key}: {val}' for key, val in best.best_params_.items()])\n",
    "pred = best.predict(x_test)\n",
    "\n",
    "fig = plt.figure(figsize=(15,12))\n",
    "ax = sns.heatmap(confusion_matrix(y_test, pred), annot=True, cmap='Purples', fmt='g')\n",
    "\n",
    "ax.set_title(f'Confusion Matrix | {best_name}')\n",
    "ax.set_xlabel('Predictions')\n",
    "ax.set_ylabel('Actual Values')\n",
    "ax.xaxis.set_ticklabels(list(range(10)))\n",
    "ax.yaxis.set_ticklabels(list(range(10)))\n",
    "\n",
    "plt.show()\n",
    "if SAVE_PLOTS:\n",
    "    save_plots(fig, 'confusion_matrix', FIG_FOLDER)"
   ]
  },
  {
   "cell_type": "code",
   "execution_count": 34,
   "metadata": {},
   "outputs": [],
   "source": [
    "import pandas as pd\n",
    "\n",
    "save_folder = f'results/{FIG_FOLDER}/'\n",
    "create_if_not_exists(save_folder)\n",
    "\n",
    "# save training data\n",
    "data = zip(names, acc[0], prec[0], recall[0], f1[0], times)\n",
    "col_names = [\"Model\", \"Accuracy\", \"Precision\", \"Recall\", \"F1\", \"Training Time (seconds)\"]\n",
    "df = pd.DataFrame(data, columns=col_names)\n",
    "df.to_excel(save_folder+'training_data.xlsx', float_format=\"%.4f\", index=False)\n",
    "\n",
    "# save test data\n",
    "data = zip(names, acc[1], prec[1], recall[1], f1[1])\n",
    "col_names = [\"Model\", \"Accuracy\", \"Precision\", \"Recall\", \"F1\"]\n",
    "df = pd.DataFrame(data, columns=col_names)\n",
    "df.to_excel(save_folder+'test_data.xlsx', float_format=\"%.4f\", index=False)"
   ]
  },
  {
   "cell_type": "code",
   "execution_count": 74,
   "metadata": {},
   "outputs": [
    {
     "name": "stdout",
     "output_type": "stream",
     "text": [
      "[0 2 3 4 5 6 7 8 9]\n",
      "[16  5  1  4  0  7  2 12  3]\n",
      "[0 2 3 4 5 6 7 8 9]\n",
      "[5 9 2 9 2 5 9 4 4]\n",
      "(9, 28, 28)\n",
      "0\n",
      "254\n"
     ]
    },
    {
     "data": {
      "image/png": "[encoded data removed]",
      "text/plain": [
       "<Figure size 1080x864 with 9 Axes>"
      ]
     },
     "metadata": {
      "needs_background": "light"
     },
     "output_type": "display_data"
    },
    {
     "ename": "IndexError",
     "evalue": "index 2 is out of bounds for axis 0 with size 2",
     "output_type": "error",
     "traceback": [
      "\u001b[0;31m---------------------------------------------------------------------------\u001b[0m",
      "\u001b[0;31mIndexError\u001b[0m                                Traceback (most recent call last)",
      "\u001b[0;32m<ipython-input-74-1a8058692018>\u001b[0m in \u001b[0;36m<module>\u001b[0;34m\u001b[0m\n\u001b[1;32m     43\u001b[0m \u001b[0mfig\u001b[0m\u001b[0;34m,\u001b[0m \u001b[0max\u001b[0m \u001b[0;34m=\u001b[0m \u001b[0mplt\u001b[0m\u001b[0;34m.\u001b[0m\u001b[0msubplots\u001b[0m\u001b[0;34m(\u001b[0m\u001b[0mnrows\u001b[0m\u001b[0;34m,\u001b[0m \u001b[0mncols\u001b[0m\u001b[0;34m,\u001b[0m \u001b[0mfigsize\u001b[0m\u001b[0;34m=\u001b[0m\u001b[0;34m(\u001b[0m\u001b[0;36m15\u001b[0m\u001b[0;34m,\u001b[0m\u001b[0;36m12\u001b[0m\u001b[0;34m)\u001b[0m\u001b[0;34m)\u001b[0m\u001b[0;34m\u001b[0m\u001b[0;34m\u001b[0m\u001b[0m\n\u001b[1;32m     44\u001b[0m \u001b[0;32mfor\u001b[0m \u001b[0mi\u001b[0m\u001b[0;34m,\u001b[0m \u001b[0mimage\u001b[0m \u001b[0;32min\u001b[0m \u001b[0menumerate\u001b[0m\u001b[0;34m(\u001b[0m\u001b[0mwrong_images\u001b[0m\u001b[0;34m)\u001b[0m\u001b[0;34m:\u001b[0m\u001b[0;34m\u001b[0m\u001b[0;34m\u001b[0m\u001b[0m\n\u001b[0;32m---> 45\u001b[0;31m     \u001b[0max\u001b[0m\u001b[0;34m[\u001b[0m\u001b[0mi\u001b[0m\u001b[0;34m//\u001b[0m\u001b[0mncols\u001b[0m\u001b[0;34m,\u001b[0m \u001b[0mi\u001b[0m\u001b[0;34m%\u001b[0m\u001b[0mncols\u001b[0m\u001b[0;34m]\u001b[0m\u001b[0;34m.\u001b[0m\u001b[0mimshow\u001b[0m\u001b[0;34m(\u001b[0m\u001b[0mimage\u001b[0m\u001b[0;34m,\u001b[0m \u001b[0mcmap\u001b[0m\u001b[0;34m=\u001b[0m\u001b[0;34m'gray'\u001b[0m\u001b[0;34m,\u001b[0m \u001b[0mvmin\u001b[0m\u001b[0;34m=\u001b[0m\u001b[0;36m0\u001b[0m\u001b[0;34m,\u001b[0m \u001b[0mvmax\u001b[0m\u001b[0;34m=\u001b[0m\u001b[0;36m255\u001b[0m\u001b[0;34m)\u001b[0m\u001b[0;34m\u001b[0m\u001b[0;34m\u001b[0m\u001b[0m\n\u001b[0m\u001b[1;32m     46\u001b[0m     \u001b[0max\u001b[0m\u001b[0;34m[\u001b[0m\u001b[0mi\u001b[0m\u001b[0;34m//\u001b[0m\u001b[0mncols\u001b[0m\u001b[0;34m,\u001b[0m \u001b[0mi\u001b[0m\u001b[0;34m%\u001b[0m\u001b[0mncols\u001b[0m\u001b[0;34m]\u001b[0m\u001b[0;34m.\u001b[0m\u001b[0maxis\u001b[0m\u001b[0;34m(\u001b[0m\u001b[0;34m'off'\u001b[0m\u001b[0;34m)\u001b[0m\u001b[0;34m\u001b[0m\u001b[0;34m\u001b[0m\u001b[0m\n\u001b[1;32m     47\u001b[0m     \u001b[0max\u001b[0m\u001b[0;34m[\u001b[0m\u001b[0mi\u001b[0m\u001b[0;34m//\u001b[0m\u001b[0mncols\u001b[0m\u001b[0;34m,\u001b[0m \u001b[0mi\u001b[0m\u001b[0;34m%\u001b[0m\u001b[0mncols\u001b[0m\u001b[0;34m]\u001b[0m\u001b[0;34m.\u001b[0m\u001b[0mset_title\u001b[0m\u001b[0;34m(\u001b[0m\u001b[0;34mf'Predicted: {pred[wrong_classifications[wrong_idxs[i]]]}, Actual: {y_test[wrong_classifications[wrong_idxs[i]]]}'\u001b[0m\u001b[0;34m)\u001b[0m\u001b[0;34m\u001b[0m\u001b[0;34m\u001b[0m\u001b[0m\n",
      "\u001b[0;31mIndexError\u001b[0m: index 2 is out of bounds for axis 0 with size 2"
     ]
    },
    {
     "data": {
      "image/png": "[encoded data removed]",
      "text/plain": [
       "<Figure size 1080x864 with 6 Axes>"
      ]
     },
     "metadata": {
      "needs_background": "light"
     },
     "output_type": "display_data"
    }
   ],
   "source": [
    "# print wrong classifications\n",
    "wrong_classifications = np.where((pred ^ y_test) != 0)[0]\n",
    "wrong_classes, wrong_idxs = np.unique(y_test[wrong_classifications], return_index=True)\n",
    "\n",
    "x_test, _ = read_data.load_test_data()\n",
    "\n",
    "# wrong_images = pipe.inverse_transform(x_test[wrong_classifications[wrong_idxs], :]).reshape(-1,28,28)\n",
    "wrong_images = x_test[wrong_classifications[wrong_idxs], :]\n",
    "\n",
    "print(np.min(wrong_images[0]))\n",
    "print(np.max(wrong_images[0]))\n",
    "\n",
    "if len(wrong_idxs) == 9:\n",
    "    nrows, ncols = 3, 3\n",
    "elif len(wrong_idxs) == 10:\n",
    "    nrows, ncols = 5, 2\n",
    "else:\n",
    "    nrows, ncols = len(wrong_idxs) // 3, 3\n",
    "    \n",
    "fig, ax = plt.subplots(nrows, ncols, figsize=(15,12))\n",
    "for i, image in enumerate(wrong_images):\n",
    "    ax[i//ncols, i%ncols].imshow(image, cmap='gray', vmin=0, vmax=255)\n",
    "    ax[i//ncols, i%ncols].axis('off')\n",
    "    ax[i//ncols, i%ncols].set_title(f'Predicted: {pred[wrong_classifications[wrong_idxs[i]]]}, Actual: {y_test[wrong_classifications[wrong_idxs[i]]]}')\n",
    "plt.show()\n",
    "if SAVE_PLOTS:\n",
    "    save_plots(fig, 'wrong_results_1', FIG_FOLDER)\n",
    "\n",
    "wrong_classes, wrong_idxs = np.unique(pred[wrong_classifications], return_index=True)\n",
    "wrong_images = x_test[wrong_classifications[wrong_idxs], :]\n",
    "\n",
    "if len(wrong_idxs) == 9:\n",
    "    nrows, ncols = 3, 3\n",
    "elif len(wrong_idxs) == 10:\n",
    "    nrows, ncols = 5, 2\n",
    "else:\n",
    "    nrows, ncols = len(wrong_idxs) // 3, 3\n",
    "    \n",
    "fig, ax = plt.subplots(nrows, ncols, figsize=(15,12))\n",
    "for i, image in enumerate(wrong_images):\n",
    "    ax[i//ncols, i%ncols].imshow(image, cmap='gray', vmin=0, vmax=255)\n",
    "    ax[i//ncols, i%ncols].axis('off')\n",
    "    ax[i//ncols, i%ncols].set_title(f'Predicted: {pred[wrong_classifications[wrong_idxs[i]]]}, Actual: {y_test[wrong_classifications[wrong_idxs[i]]]}')\n",
    "plt.show()\n",
    "if SAVE_PLOTS:\n",
    "    save_plots(fig, 'wrong_results_2', FIG_FOLDER)"
   ]
  },
  {
   "cell_type": "code",
   "execution_count": null,
   "metadata": {},
   "outputs": [],
   "source": []
  }
 ],
 "metadata": {
  "kernelspec": {
   "display_name": "Python 3",
   "language": "python",
   "name": "python3"
  },
  "language_info": {
   "codemirror_mode": {
    "name": "ipython",
    "version": 3
   },
   "file_extension": ".py",
   "mimetype": "text/x-python",
   "name": "python",
   "nbconvert_exporter": "python",
   "pygments_lexer": "ipython3",
   "version": "3.8.10"
  },
  "vscode": {
   "interpreter": {
    "hash": "31f2aee4e71d21fbe5cf8b01ff0e069b9275f58929596ceb00d14d90e3e16cd6"
   }
  }
 },
 "nbformat": 4,
 "nbformat_minor": 4
}
