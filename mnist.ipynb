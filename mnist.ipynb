{
 "cells": [
  {
   "cell_type": "code",
   "execution_count": null,
   "metadata": {},
   "outputs": [],
   "source": [
    "from datasets.mnist import read_data\n",
    "\n",
    "# load the data\n",
    "chose_split = True # load all the data and then chose how to split\n",
    "if chose_split:\n",
    "    X, y = read_data.load_all_data()\n",
    "\n",
    "    from sklearn.model_selection import train_test_split\n",
    "    x_train, x_test, y_train, y_test = train_test_split(X, y, test_size=0.4, random_state=1337)\n",
    "    del X # save some space\n",
    "    del y # save some space\n",
    "else:\n",
    "    # load the training and testing sets as given by the author\n",
    "    x_train, y_train = read_data.load_train_data()\n",
    "    x_test, y_test = read_data.load_test_data()\n",
    "\n",
    "# serialize images (from 2d to 1d)\n",
    "x_train = x_train.reshape((x_train.shape[0], -1))\n",
    "x_test = x_test.reshape((x_test.shape[0], -1))\n",
    "\n",
    "test = True # for testing stuff without the need to wait an eternity\n",
    "# test = False # for testing stuff without the need to wait an eternity\n",
    "if test:\n",
    "    x_train = x_train[:10000]\n",
    "    y_train = y_train[:10000]\n",
    "    x_test = x_test[:1000]\n",
    "    y_test = y_test[:1000]"
   ]
  },
  {
   "cell_type": "code",
   "execution_count": null,
   "metadata": {},
   "outputs": [],
   "source": [
    "from sklearn.preprocessing import StandardScaler\n",
    "from sklearn.pipeline import Pipeline\n",
    "from sklearn.decomposition import PCA\n",
    "\n",
    "pipe = Pipeline([('scaler1', StandardScaler()),\n",
    "                 ('PCA', PCA(0.9)),\n",
    "                 ('scaler2', StandardScaler()),\n",
    "                ])\n",
    "pipe.fit(x_train)\n",
    "x_train = pipe.transform(x_train)\n",
    "x_test = pipe.transform(x_test)"
   ]
  },
  {
   "cell_type": "code",
   "execution_count": null,
   "metadata": {},
   "outputs": [],
   "source": [
    "from sklearn.svm import SVC\n",
    "from sklearn import metrics\n",
    "from time import time\n",
    "\n",
    "class SVM_wrapper(SVC):\n",
    "    def __init__(self, kernel, **kwargs):\n",
    "        super().__init__(kernel=kernel, **kwargs)\n",
    "        self.init_kwargs = kwargs\n",
    "    \n",
    "    def fit(self, *args, **kwargs):\n",
    "        t0 = time()\n",
    "        super().fit(*args, **kwargs)\n",
    "        self.train_time = time() - t0\n",
    "    \n",
    "    def calculate_metrics(self, x, y):\n",
    "        y_predicted = self.predict(x)\n",
    "        acc = metrics.accuracy_score(y, y_predicted)\n",
    "        prec = metrics.precision_score(y, y_predicted, average=\"macro\")\n",
    "        recall = metrics.recall_score(y, y_predicted, average=\"macro\")\n",
    "        f1 = metrics.f1_score(y, y_predicted, average=\"macro\")\n",
    "        return (acc, prec, recall, f1)\n",
    "\n",
    "    def calculate_train_test_metrics(self, x_train, y_train, x_test, y_test):\n",
    "        self.calculate_test_metrics(x_test, y_test)\n",
    "        self.calculate_train_metrics(x_train, y_train)\n",
    "\n",
    "    def calculate_train_metrics(self, x_train, y_train):\n",
    "        self.train_metrics = self.calculate_metrics(x_train, y_train)\n",
    "\n",
    "    def calculate_test_metrics(self, x_test, y_test):\n",
    "        self.test_metrics = self.calculate_metrics(x_test, y_test)\n",
    "\n",
    "params = {\n",
    "          'linear': {'C': (0.1, 1, 10)},\n",
    "          'poly': {'C': (0.1, 1, 10), 'degree': (2, 3, 4)},\n",
    "          'rbf': {'C': (0.1, 1, 10)}, # 'gamma': ('scale', 'auto') could use that but will result to the same value\n",
    "          'sigmoid': {'C': (0.1, 1, 10), 'coef0': (0, 1, 10)},\n",
    "         }\n",
    "'''\n",
    "params = {\n",
    "          'linear': None,\n",
    "          'poly': None,\n",
    "          'rbf': None, # 'gamma': ('scale', 'auto') could use that but will result to the same value\n",
    "          'sigmoid': None,\n",
    "         }\n",
    "'''\n",
    "\n",
    "\n",
    "from itertools import product\n",
    "models = []\n",
    "for kernel, kwargs in params.items():\n",
    "    if kwargs is not None:\n",
    "        # calculate all the permutations\n",
    "        values_list = list(kwargs.values())\n",
    "        permutations = product(*values_list)\n",
    "\n",
    "        for p in permutations:\n",
    "            arg_dict = dict(zip(list(kwargs.keys()), p))\n",
    "            models.append(SVM_wrapper(kernel, **arg_dict))\n",
    "    else:\n",
    "        models.append(SVM_wrapper(kernel))"
   ]
  },
  {
   "cell_type": "code",
   "execution_count": null,
   "metadata": {},
   "outputs": [],
   "source": [
    "for model in models:\n",
    "    model.fit(x_train, y_train)\n",
    "    mins, secs = divmod(model.train_time, 60)\n",
    "    print(f'{mins} mins {secs:.4f} secs')"
   ]
  },
  {
   "cell_type": "code",
   "execution_count": null,
   "metadata": {},
   "outputs": [],
   "source": [
    "'''\n",
    "from concurrent.futures import ThreadPoolExecutor\n",
    "with ThreadPoolExecutor(max_workers = 2) as executor:\n",
    "    executor.map(lambda x: x.fit(x_train, y_train), models)\n",
    "\n",
    "for model in models:\n",
    "    # model.fit(x_train, y_train)\n",
    "    mins, secs = divmod(model.train_time, 60)\n",
    "    print(f'{mins} mins {secs:.4f} secs')\n",
    "'''"
   ]
  },
  {
   "cell_type": "code",
   "execution_count": null,
   "metadata": {},
   "outputs": [],
   "source": [
    "for model in models:\n",
    "    model.calculate_train_test_metrics(x_train, y_train, x_test, y_test)\n",
    "    print(model.kernel, model.train_metrics, model.test_metrics)"
   ]
  },
  {
   "cell_type": "code",
   "execution_count": null,
   "metadata": {},
   "outputs": [],
   "source": [
    "from sklearn.metrics import confusion_matrix\n",
    "import seaborn as sns\n",
    "import matplotlib.pyplot as plt\n",
    "\n",
    "plt.figure(figsize=(15,12))\n",
    "ax = sns.heatmap(confusion_matrix(y_test, pred), annot=True, cmap='Purples', fmt='g')\n",
    "\n",
    "ax.set_title('Confusion Matrix')\n",
    "ax.set_xlabel('Predictions')\n",
    "ax.set_ylabel('Actual Values')\n",
    "ax.xaxis.set_ticklabels(list(range(10)))\n",
    "ax.yaxis.set_ticklabels(list(range(10)))\n",
    "\n",
    "plt.show()"
   ]
  },
  {
   "cell_type": "code",
   "execution_count": null,
   "metadata": {},
   "outputs": [],
   "source": []
  }
 ],
 "metadata": {
  "kernelspec": {
   "display_name": "Python 3",
   "language": "python",
   "name": "python3"
  },
  "language_info": {
   "codemirror_mode": {
    "name": "ipython",
    "version": 3
   },
   "file_extension": ".py",
   "mimetype": "text/x-python",
   "name": "python",
   "nbconvert_exporter": "python",
   "pygments_lexer": "ipython3",
   "version": "3.8.10"
  },
  "vscode": {
   "interpreter": {
    "hash": "31f2aee4e71d21fbe5cf8b01ff0e069b9275f58929596ceb00d14d90e3e16cd6"
   }
  }
 },
 "nbformat": 4,
 "nbformat_minor": 4
}
