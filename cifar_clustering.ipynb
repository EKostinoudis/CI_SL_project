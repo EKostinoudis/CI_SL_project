{
 "cells": [
  {
   "cell_type": "code",
   "execution_count": null,
   "metadata": {},
   "outputs": [],
   "source": [
    "from datasets.cifar_10 import read_data\n",
    "import numpy as np\n",
    "from utils import *\n",
    "import matplotlib.pyplot as plt\n",
    "\n",
    "FIG_FOLDER = 'spectral/cifar'\n",
    "SAVE_PLOTS = True # save all the plots\n",
    "# SAVE_PLOTS = False # save all the plots\n",
    "DTYPE = np.float32\n",
    "\n",
    "# figure size\n",
    "plt.rcParams[\"figure.figsize\"] = (10,8)\n",
    "\n",
    "# load the data\n",
    "# data are 32x32x3 images serialized\n",
    "x_train, y_train = read_data.load_train_data()\n",
    "x_test, y_test = read_data.load_test_data()\n",
    "label_names = np.array(read_data.load_label_names())\n",
    "\n",
    "# test = True # for testing stuff without the need to wait an eternity\n",
    "test = False # for testing stuff without the need to wait an eternity\n",
    "if test:\n",
    "    x_train = x_train[:2000]\n",
    "    y_train = y_train[:2000]\n",
    "    x_test = x_test[:800]\n",
    "    y_test = y_test[:800]"
   ]
  },
  {
   "cell_type": "code",
   "execution_count": null,
   "metadata": {},
   "outputs": [],
   "source": [
    "from sklearn.preprocessing import MinMaxScaler\n",
    "\n",
    "scaler = MinMaxScaler()\n",
    "scaler.fit(x_train)\n",
    "x_train = scaler.transform(x_train).astype(DTYPE)\n",
    "x_test = scaler.transform(x_test).astype(DTYPE)"
   ]
  },
  {
   "cell_type": "code",
   "execution_count": null,
   "metadata": {},
   "outputs": [],
   "source": [
    "from sklearn.manifold import TSNE\n",
    "from time import time\n",
    "\n",
    "pp = [10, 20, 30, 40, 50, 60]\n",
    "xx = []\n",
    "times = []\n",
    "for p in pp:\n",
    "    t0 = time()\n",
    "    tsne = TSNE(n_components=2, perplexity=p)\n",
    "    x_train_tsne = tsne.fit_transform(x_train)\n",
    "    times.append(time()-t0)\n",
    "    print(f'{p}: {times[-1]:.4f} secs')\n",
    "    xx.append(x_train_tsne)"
   ]
  },
  {
   "cell_type": "code",
   "execution_count": null,
   "metadata": {},
   "outputs": [],
   "source": [
    "import pandas as pd\n",
    "\n",
    "save_folder = f'results/{FIG_FOLDER}/'\n",
    "create_if_not_exists(save_folder)\n",
    "\n",
    "# save the tsne times\n",
    "col_names = ['perplexity', *pp]\n",
    "data = [['seconds', *times]]\n",
    "df = pd.DataFrame(data, columns=col_names)\n",
    "df.to_excel(save_folder+'tsne_times.xlsx', float_format=\"%.2f\", index=False)\n",
    "df.to_csv(save_folder+'tsne_times.csv', float_format=\"%.2f\", index=False)"
   ]
  },
  {
   "cell_type": "code",
   "execution_count": null,
   "metadata": {},
   "outputs": [],
   "source": [
    "import matplotlib.pyplot as plt\n",
    "\n",
    "# fig = plt.figure(figsize=(12,7))\n",
    "fig = plt.figure()\n",
    "for n, x in enumerate(xx):\n",
    "    plt.subplot(2, 3, n+1)\n",
    "    for i in range(10):\n",
    "        plt.scatter(x[y_train==i, 0], x[y_train==i, 1], label=f'{i}', s=10)\n",
    "    plt.title(f'perplexity: {pp[n]}')\n",
    "    # plt.legend()\n",
    "plt.show()\n",
    "if SAVE_PLOTS:\n",
    "    save_plots(fig, 'tsne_all', FIG_FOLDER)"
   ]
  },
  {
   "cell_type": "code",
   "execution_count": null,
   "metadata": {},
   "outputs": [],
   "source": [
    "from sklearn.manifold import TSNE\n",
    "\n",
    "x_train_tsne = xx.pop(5) # perplexity=60\n",
    "# tsne = TSNE(n_components=2, perplexity=60)\n",
    "# x_train_tsne = tsne.fit_transform(x_train)\n",
    "\n",
    "'''\n",
    "tsne = TSNE(n_components=2, perplexity=60)\n",
    "x_tsne = tsne.fit_transform(np.concatenate((x_train, x_test), axis=0))\n",
    "x_train_tsne = x_tsne[:x_train.shape[0],:]\n",
    "x_test_tsne = x_tsne[x_train.shape[0]:,:]\n",
    "'''"
   ]
  },
  {
   "cell_type": "code",
   "execution_count": null,
   "metadata": {},
   "outputs": [],
   "source": [
    "# delete xx to save memory\n",
    "del xx"
   ]
  },
  {
   "cell_type": "code",
   "execution_count": null,
   "metadata": {},
   "outputs": [],
   "source": [
    "import matplotlib.pyplot as plt\n",
    "\n",
    "fig = plt.figure()\n",
    "for i in range(10):\n",
    "    plt.scatter(x_train_tsne[y_train==i, 0], x_train_tsne[y_train==i, 1], label=f'{label_names[i]}', s=10)\n",
    "plt.title('TSNE results in training data')\n",
    "plt.legend()\n",
    "plt.show()\n",
    "if SAVE_PLOTS:\n",
    "    save_plots(fig, 'tsne_training', FIG_FOLDER)\n",
    "\n",
    "'''\n",
    "fig = plt.figure()\n",
    "for i in range(10):\n",
    "    plt.scatter(x_test_tsne[y_test==i, 0], x_test_tsne[y_test==i, 1], label=f'{i}', s=10)\n",
    "plt.title('TSNE results in test data')\n",
    "plt.legend()\n",
    "plt.show()\n",
    "if SAVE_PLOTS:\n",
    "    save_plots(fig, 'tsne_test', FIG_FOLDER)\n",
    "'''"
   ]
  },
  {
   "cell_type": "code",
   "execution_count": null,
   "metadata": {},
   "outputs": [],
   "source": [
    "from sklearn.cluster import KMeans\n",
    "from spectral_embeddings import spectral_embeddings\n",
    "from sklearn.metrics.cluster import adjusted_rand_score\n",
    "\n",
    "# perform grid search\n",
    "num_of_neightbors = [10, 15, 20, 25, 30, 40, 50]\n",
    "num_of_embeddings = [3, 5, 8, 10, 15, 20, 30, 40]\n",
    "grid_search_results = []\n",
    "for n in num_of_neightbors:\n",
    "    # w, v = spectral_embeddings(x_train_tsne, max(num_of_embeddings)+1, n=n, laplacian_norm=True)\n",
    "    w, v = spectral_embeddings(x_train_tsne, max(num_of_embeddings)+1, n=n, laplacian_norm=False)\n",
    "\n",
    "    res = []\n",
    "    for emb in num_of_embeddings:\n",
    "        pred = KMeans(n_clusters=10, random_state=69, n_init=\"auto\").fit(v[:, 1:emb+1]).labels_\n",
    "        res.append(adjusted_rand_score(y_train, pred))\n",
    "    grid_search_results.append(res)"
   ]
  },
  {
   "cell_type": "code",
   "execution_count": null,
   "metadata": {},
   "outputs": [],
   "source": [
    "# save the grid search results\n",
    "col_names = ['neightbors / embeddings', *num_of_embeddings]\n",
    "data = [[n, *res] for n, res in zip(num_of_neightbors, grid_search_results)]\n",
    "df = pd.DataFrame(data, columns=col_names)\n",
    "df.to_excel(save_folder+'grid_search_train.xlsx', float_format=\"%.4f\", index=False)\n",
    "df.to_csv(save_folder+'grid_search_train.csv', float_format=\"%.4f\", index=False)"
   ]
  },
  {
   "cell_type": "code",
   "execution_count": null,
   "metadata": {},
   "outputs": [],
   "source": [
    "grid_search_results = np.asarray(grid_search_results)\n",
    "best_n_idx, best_emb_idx = np.unravel_index(grid_search_results.argmax(), grid_search_results.shape)\n",
    "print(f'neightbors: {num_of_neightbors[best_n_idx]}, embeddings: {num_of_embeddings[best_emb_idx]}')"
   ]
  },
  {
   "cell_type": "code",
   "execution_count": null,
   "metadata": {},
   "outputs": [],
   "source": [
    "from time import time\n",
    "\n",
    "t0 = time()\n",
    "# w, v = spectral_embeddings(x_train_tsne, max(num_of_embeddings)+1, n=num_of_neightbors[best_n_idx], laplacian_norm=True)\n",
    "w, v = spectral_embeddings(x_train_tsne, max(num_of_embeddings)+1, n=num_of_neightbors[best_n_idx], laplacian_norm=False)\n",
    "print(f'time for embeddings: {time()-t0:.4f} secs')"
   ]
  },
  {
   "cell_type": "code",
   "execution_count": null,
   "metadata": {},
   "outputs": [],
   "source": [
    "# plot w\n",
    "fig = plt.figure()\n",
    "plt.scatter(np.arange(w.shape[0], dtype=int), w)\n",
    "plt.title('Eigenvalues')\n",
    "plt.show()\n",
    "if SAVE_PLOTS:\n",
    "    save_plots(fig, 'eigenvalues', FIG_FOLDER)"
   ]
  },
  {
   "cell_type": "code",
   "execution_count": null,
   "metadata": {},
   "outputs": [],
   "source": [
    "# hold the the embeddings that we need\n",
    "v = v[:, 1:num_of_embeddings[best_emb_idx]+1]"
   ]
  },
  {
   "cell_type": "code",
   "execution_count": null,
   "metadata": {},
   "outputs": [],
   "source": [
    "pred = KMeans(n_clusters=10, random_state=69, n_init=\"auto\").fit(v).labels_\n",
    "# pred = KMeans(n_clusters=10, random_state=69, n_init=10).fit(v).labels_\n",
    "fig = plt.figure(figsize=(12,6))\n",
    "plt.subplot(1, 2, 1)\n",
    "for i in range(10):\n",
    "    plt.scatter(x_train_tsne[y_train==i, 0], x_train_tsne[y_train==i, 1], label=f'{i}', s=10)\n",
    "plt.title(f'Original')\n",
    "\n",
    "plt.subplot(1, 2, 2)\n",
    "for i in range(10):\n",
    "    plt.scatter(x_train_tsne[pred==i, 0], x_train_tsne[pred==i, 1], label=f'{i}', s=10)\n",
    "plt.title(f'Predicted')\n",
    "\n",
    "plt.show()\n",
    "if SAVE_PLOTS:\n",
    "    save_plots(fig, 'best_model_results', FIG_FOLDER)"
   ]
  },
  {
   "cell_type": "code",
   "execution_count": null,
   "metadata": {},
   "outputs": [],
   "source": [
    "from sklearn.metrics import silhouette_score\n",
    "\n",
    "# search for number of clusters > 10\n",
    "n_clusters = [10, 15, 20, 25, 30, 40]\n",
    "silhouette_v = []\n",
    "silhouette_x = []\n",
    "fig = plt.figure(figsize=(12,8))\n",
    "for i, n in enumerate(n_clusters):\n",
    "    pred = KMeans(n_clusters=n, random_state=69, n_init=\"auto\").fit(v).labels_\n",
    "    # pred = KMeans(n_clusters=n, random_state=69).fit(v).labels_\n",
    "    silhouette_v.append(silhouette_score(v, pred, sample_size=2000))\n",
    "    silhouette_x.append(silhouette_score(x_train_tsne, pred, sample_size=2000))\n",
    "\n",
    "    plt.subplot(2, 3, i+1)\n",
    "    plt.scatter(x_train_tsne[:, 0], x_train_tsne[:, 1], c=pred, s=10, cmap='gist_rainbow')\n",
    "    plt.title(f'Clusters: {n}')\n",
    "    plt.colorbar()\n",
    "plt.show()\n",
    "if SAVE_PLOTS:\n",
    "    save_plots(fig, 'dif_clusters', FIG_FOLDER)"
   ]
  },
  {
   "cell_type": "code",
   "execution_count": null,
   "metadata": {},
   "outputs": [],
   "source": [
    "# save the silhouette results\n",
    "col_names = ['Data', *n_clusters]\n",
    "data = [['Embeddings', *silhouette_v], ['TSNE 2D space', *silhouette_x]]\n",
    "df = pd.DataFrame(data, columns=col_names)\n",
    "df.to_excel(save_folder+'silhouette_train.xlsx', float_format=\"%.4f\", index=False)\n",
    "df.to_csv(save_folder+'silhouette_train.csv', float_format=\"%.4f\", index=False)"
   ]
  },
  {
   "cell_type": "code",
   "execution_count": null,
   "metadata": {},
   "outputs": [],
   "source": []
  }
 ],
 "metadata": {
  "kernelspec": {
   "display_name": "Python 3",
   "language": "python",
   "name": "python3"
  },
  "language_info": {
   "codemirror_mode": {
    "name": "ipython",
    "version": 3
   },
   "file_extension": ".py",
   "mimetype": "text/x-python",
   "name": "python",
   "nbconvert_exporter": "python",
   "pygments_lexer": "ipython3",
   "version": "3.10.6"
  },
  "vscode": {
   "interpreter": {
    "hash": "31f2aee4e71d21fbe5cf8b01ff0e069b9275f58929596ceb00d14d90e3e16cd6"
   }
  }
 },
 "nbformat": 4,
 "nbformat_minor": 4
}
